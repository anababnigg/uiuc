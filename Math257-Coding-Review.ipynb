{
 "cells": [
  {
   "cell_type": "markdown",
   "metadata": {},
   "source": [
    "# Coding Python Notes\n",
    "***\n",
    "Comprehensive guide as a basic notion of how to go about solving basic linalg questions.\n",
    "\n",
    "Will have a general formulae and per week labs and what to remember.\n"
   ]
  },
  {
   "cell_type": "code",
   "execution_count": 1,
   "metadata": {},
   "outputs": [],
   "source": [
    "import numpy as np\n",
    "import scipy.linalg as la"
   ]
  },
  {
   "cell_type": "markdown",
   "metadata": {},
   "source": [
    "***\n",
    "\n",
    "## Basics to remember for basic linalg uses\n",
    "- make use of numpy\n",
    "- make use of linalg library\n",
    "- make use of program / python documentation\n",
    "...."
   ]
  },
  {
   "cell_type": "markdown",
   "metadata": {},
   "source": [
    "### Numpy / Coding Basics"
   ]
  },
  {
   "cell_type": "code",
   "execution_count": 8,
   "metadata": {},
   "outputs": [],
   "source": [
    "# >> indexing <<\n",
    "A = np.ones([3,3])\n",
    "\n",
    "i = 0\n",
    "# to select a row\n",
    "A[i]\n",
    "# to select a column\n",
    "A[:,i]\n",
    "# to select first i elements\n",
    "A[:i]\n",
    "# to select starting at i to end of list\n",
    "A[i:]\n",
    "# slice from i to i\n",
    "A[i:i]\n",
    "# slice from i to i with step i\n",
    "A[i:i:i]\n",
    "\n",
    "# >> sizing <<\n",
    "A.shape[0] #height or number of rows\n",
    "A.shape[1] #width or number of columns\n",
    "\n",
    "#>> basic looping <<\n",
    "for h in range(A.shape[0]):\n",
    "    for w in range(A.shape[1]):\n",
    "        value = A[h][w]"
   ]
  },
  {
   "cell_type": "markdown",
   "metadata": {},
   "source": [
    "### Computational Problems + Coding Solutions"
   ]
  },
  {
   "cell_type": "markdown",
   "metadata": {},
   "source": [
    "#### Basic Methods"
   ]
  },
  {
   "cell_type": "code",
   "execution_count": 11,
   "metadata": {},
   "outputs": [],
   "source": [
    "# >> Gramm-Scmidt Method <<\n",
    "def gram_schmidt(X):\n",
    "    Q, R = np.linalg.qr(X) #utilizing QR fcatorization\n",
    "    return Q\n",
    "\n",
    "# eigenvalues and vectors\n",
    "def eigen(A):\n",
    "    eigenvalues, eigenvectors = la.eig(A)\n",
    "\n",
    "# A = PDP^-1 (diagonalize a matrix)\n",
    "def diagonalize(A):\n",
    "    # make sure it is diagonalizable\n",
    "    eigenvalues, eigenvectors = la.eig(A)\n",
    "    P = eigenvectors\n",
    "    P_inv = la.inv(P)\n",
    "    D = np.diag(eigenvalues)\n",
    "\n",
    "    return P, D, P_inv\n",
    "\n",
    "# eigenspaces of A\n",
    "def find_eigenspaces(A):\n",
    "    eigenvalues, eigenvectors = la.eig(A)\n",
    "    eigenspaces = []\n",
    "    for i, eigenvalue in enumerate(eigenvalues):\n",
    "        indices = np.where(np.isclose(eigenvalues, eigenvalue))[0]\n",
    "        eigenspace_basis = eigenvectors[:, indices]\n",
    "        normalized_basis = eigenspace_basis / np.linalg.norm(eigenspace_basis, axis=0)\n",
    "        eigenspaces.append(normalized_basis)\n",
    "    return eigenspaces \n",
    "\n",
    "# change of base (example)\n",
    "#find T_(B,B) given I_(C,B) and T_(C, C)\n",
    "Icb = np.array([[1, -2],[1, 2]])\n",
    "Tcc = np.array([[2, 0], [-1, 2]])\n",
    "Tbb = la.inv(Icb) @ Tcc @ Icb\n",
    "\n",
    "# solve for missing matrix for matrix multiplication (AB = C)\n",
    "def mult_solve(A, C):\n",
    "    B = np.around(la.pinv(A) @ C, decimals = 2)\n",
    "    return B\n",
    "\n",
    "#identical column spaces (find a matrix B such that B is a multiple of a column of A but Col(B) = Col(A))\n",
    "def same_col_space(A):\n",
    "    B = A.copy()\n",
    "    B[:,0] += A[:,1]\n",
    "    B[:,1] -= A[:,0]\n",
    "    return B"
   ]
  },
  {
   "cell_type": "markdown",
   "metadata": {},
   "source": [
    "#### Exam Questions"
   ]
  },
  {
   "cell_type": "markdown",
   "metadata": {},
   "source": [
    "![\"image\"](file:///c%3A/Users/aniko/Downloads/Screenshot%202023-11-28%20235546.png)"
   ]
  },
  {
   "cell_type": "markdown",
   "metadata": {},
   "source": []
  }
 ],
 "metadata": {
  "kernelspec": {
   "display_name": "Python 3.10.7 64-bit",
   "language": "python",
   "name": "python3"
  },
  "language_info": {
   "codemirror_mode": {
    "name": "ipython",
    "version": 3
   },
   "file_extension": ".py",
   "mimetype": "text/x-python",
   "name": "python",
   "nbconvert_exporter": "python",
   "pygments_lexer": "ipython3",
   "version": "3.10.7"
  },
  "orig_nbformat": 4,
  "vscode": {
   "interpreter": {
    "hash": "02dc2f7eb111b45208dda2138ea59acf9be92fe580dee25ec16d6861a495daef"
   }
  }
 },
 "nbformat": 4,
 "nbformat_minor": 2
}
