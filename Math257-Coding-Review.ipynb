{
 "cells": [
  {
   "cell_type": "markdown",
   "metadata": {},
   "source": [
    "# Coding Python Notes\n",
    "***\n",
    "Comprehensive guide as a basic notion of how to go about solving basic linalg questions.\n",
    "\n",
    "Will have a general formulae and per week labs and what to remember.\n"
   ]
  },
  {
   "cell_type": "code",
   "execution_count": 2,
   "metadata": {},
   "outputs": [],
   "source": [
    "import numpy as np\n",
    "import scipy.linalg as la"
   ]
  },
  {
   "cell_type": "markdown",
   "metadata": {},
   "source": [
    "***\n",
    "\n",
    "## Basics to remember for basic linalg uses\n",
    "- make use of numpy\n",
    "- make use of linalg library\n",
    "- make use of program / python documentation\n",
    "...."
   ]
  },
  {
   "cell_type": "markdown",
   "metadata": {},
   "source": [
    "### Numpy / Coding Basics"
   ]
  },
  {
   "cell_type": "code",
   "execution_count": 15,
   "metadata": {},
   "outputs": [
    {
     "name": "stdout",
     "output_type": "stream",
     "text": [
      "[ 0  6 12 18 24 30 36]\n"
     ]
    },
    {
     "data": {
      "text/plain": [
       "array([0. , 0.5])"
      ]
     },
     "execution_count": 15,
     "metadata": {},
     "output_type": "execute_result"
    }
   ],
   "source": [
    "# >> indexing <<\n",
    "A = np.ones([3,3])\n",
    "\n",
    "\n",
    "i = 0\n",
    "# to create identity matrix size ixi\n",
    "I = np.eye(i)\n",
    "# to select a row\n",
    "A[i]\n",
    "# to select a column\n",
    "A[:,i]\n",
    "# to select first i elements\n",
    "A[:i]\n",
    "# to select starting at i to end of list\n",
    "A[i:]\n",
    "# slice from i to i\n",
    "A[i:i]\n",
    "# slice from i to i with step 2\n",
    "A[i:i:2]\n",
    "# creating array by complex indexing\n",
    "length = 6\n",
    "N = 6\n",
    "C = np.array([length * i for i in range(N+1)])\n",
    "print(C)\n",
    "\n",
    "# >> sizing <<\n",
    "A.shape[0] #height or number of rows\n",
    "A.shape[1] #width or number of columns\n",
    "\n",
    "#>> basic looping <<\n",
    "for h in range(A.shape[0]):\n",
    "    for w in range(A.shape[1]):\n",
    "        value = A[h][w]\n",
    "\n",
    "# >> equations <<\n",
    "#Ax = b\n",
    "A = np.array([[1, 2], [3, 4]])\n",
    "b = np.array([1, 2])\n",
    "la.solve(A, b)\n"
   ]
  },
  {
   "cell_type": "markdown",
   "metadata": {},
   "source": [
    "### Computational Problems + Coding Solutions"
   ]
  },
  {
   "cell_type": "markdown",
   "metadata": {},
   "source": [
    "#### Basic Methods"
   ]
  },
  {
   "cell_type": "code",
   "execution_count": 7,
   "metadata": {},
   "outputs": [],
   "source": [
    "# >> Gramm-Scmidt Method <<\n",
    "def gram_schmidt(X):\n",
    "    Q, R = np.linalg.qr(X) #utilizing QR fcatorization\n",
    "    return Q\n",
    "\n",
    "# eigenvalues and vectors\n",
    "def eigen(A):\n",
    "    eigenvalues, eigenvectors = la.eig(A)\n",
    "\n",
    "# A = PDP^-1 (diagonalize a matrix)\n",
    "def diagonalize(A):\n",
    "    # make sure it is diagonalizable\n",
    "    eigenvalues, eigenvectors = la.eig(A)\n",
    "    P = eigenvectors\n",
    "    P_inv = la.inv(P)\n",
    "    D = np.diag(eigenvalues)\n",
    "\n",
    "    return P, D, P_inv\n",
    "\n",
    "# eigenspaces of A\n",
    "def find_eigenspaces(A):\n",
    "    eigenvalues, eigenvectors = la.eig(A)\n",
    "    eigenspaces = []\n",
    "    for i, eigenvalue in enumerate(eigenvalues):\n",
    "        indices = np.where(np.isclose(eigenvalues, eigenvalue))[0]\n",
    "        eigenspace_basis = eigenvectors[:, indices]\n",
    "        normalized_basis = eigenspace_basis / np.linalg.norm(eigenspace_basis, axis=0)\n",
    "        eigenspaces.append(normalized_basis)\n",
    "    return eigenspaces \n",
    "\n",
    "# change of base (example)\n",
    "#find T_(B,B) given I_(C,B) and T_(C, C)\n",
    "Icb = np.array([[1, -2],[1, 2]])\n",
    "Tcc = np.array([[2, 0], [-1, 2]])\n",
    "Tbb = la.inv(Icb) @ Tcc @ Icb\n",
    "\n",
    "# solve for missing matrix for matrix multiplication (AB = C)\n",
    "def mult_solve(A, C):\n",
    "    B = np.around(la.pinv(A) @ C, decimals = 2)\n",
    "    return B\n",
    "\n",
    "#identical column spaces (find a matrix B such that B is a multiple of a column of A but Col(B) = Col(A))\n",
    "def same_col_space(A):\n",
    "    B = A.copy()\n",
    "    B[:,0] += A[:,1]\n",
    "    B[:,1] -= A[:,0]\n",
    "    return B\n",
    "\n",
    "# normalize a matrix\n",
    "def normalize(M):\n",
    "    N = M / la.norm(M, 1, axis = 0)\n",
    "    return M\n",
    "\n"
   ]
  },
  {
   "cell_type": "markdown",
   "metadata": {},
   "source": [
    "#### Exam Questions"
   ]
  },
  {
   "cell_type": "code",
   "execution_count": null,
   "metadata": {},
   "outputs": [],
   "source": [
    "# >> EXAM 2 <<\n",
    "# Graphs: Contact tracing for the control of infectious disease epidemics\n",
    "# Given: directed graph of recorded contacts, nullspace()\n",
    "# Find: \n",
    "    # 1) (num_farm_groups) number of connected components of this network\n",
    "    # 2) (num_disease_spead) number of farms to which the disease will spread\n"
   ]
  },
  {
   "cell_type": "markdown",
   "metadata": {},
   "source": [
    "### Labs + Lab Homework Review"
   ]
  },
  {
   "cell_type": "code",
   "execution_count": 11,
   "metadata": {},
   "outputs": [
    {
     "name": "stdout",
     "output_type": "stream",
     "text": [
      "(-0.6123724356957945+0.8660254037844385j) (-0.6123724356957945-0.8660254037844385j)\n"
     ]
    }
   ],
   "source": [
    "# >> MATRIX OPERATIONS <<\n",
    "# Transformation of Points\n",
    "x = np.array([1,2])\n",
    "scale = np.eye(2) * 2\n",
    "x_scaled_by_2 = scale @ x\n",
    "# Tranformation of many points\n",
    "# iterate through each column and apply scale, or just apply transformation.\n",
    "\n",
    "# >> SOLVING LINEAR SYSTEM OF EQUATIONS <<\n",
    "# form is Ax = b (linearizing)\n",
    "# > if given variables in off order, use la.inv.\n",
    "A = np.array([[1,2],[3,4]])\n",
    "b = np.array([2,1])\n",
    "x = b * la.inv(A)\n",
    "# > or...\n",
    "x = la.solve(A, b)\n",
    "\n",
    "# >> GRAPHS <<\n",
    "# Adjacency Matrix (0 if not connected, 1 if connected)\n",
    "A = np.array([[0, 1, 1, 0], [1, 1, 1, 0], [1, 1, 0, 1], [0, 0, 1, 0]])\n",
    "A_sqared = A @ A #an entry of this matrix represents how many ways one can move from a node to a note via a walk of length 2.\n",
    "# To get an edge-node incidence matrix given adjacency matrix G:\n",
    "def get_incidence_matrix(G):\n",
    "    # G: the adjacency matrix\n",
    "    n = len(G) # number of nodes\n",
    "    m = np.count_nonzero(G) # number of edges\n",
    "    M = np.zeros((m,n)).astype(int)\n",
    "    l = 0\n",
    "    for i in range(n):\n",
    "        for j in range(n):\n",
    "            if ((G[i,j] != 0) & (i!=j)):\n",
    "                M[l,i] = 1\n",
    "                M[l,j] = -1\n",
    "                l += 1\n",
    "    return M\n",
    "\n",
    "# Networking\n",
    "# needs packages installed to actually work\n",
    "def networking():\n",
    "    import graph\n",
    "    n = 100\n",
    "    network = graph.gen_random_friends(n, 0.98)\n",
    "    # get matrices\n",
    "    incidence_network = get_incidence_matrix(network)\n",
    "    null_network = nullspace(incidence1)\n",
    "    ngroups = null_network.shape[1]\n",
    "    sum_null=null_network.sum(axis=0)\n",
    "    receive_meme = sum_null[np.where(null_network[60]==1)[0][0]]\n",
    "    print(receive_meme)\n",
    "    nfriends_pergroup = np.empty(ngroups)\n",
    "    null_network_T = null_network.T\n",
    "    for i in range(len(null_network_T)):\n",
    "        count1 = 0\n",
    "        for j in range(len(null_network_T[0])):\n",
    "            count1 += null_network_T[i][j]\n",
    "        nfriends_pergroup[i] = count1\n",
    "        \n",
    "\n",
    "\n",
    "# >> TRANSFORMATIONS + DATA COMPRESSION <<\n",
    "# DCT (Discrete Cosine Transformations)\n",
    "# use la.solve to change bases (shown above)\n",
    "# function that creates the DCT matrix where each column is a basis vector\n",
    "def create_dct_basis(N):\n",
    "    # N: this is the dimension of the matrix D\n",
    "    D = np.zeros((N, N))\n",
    "    for k in range(N):\n",
    "        for i in range(N):\n",
    "            D[i,k] = np.cos((np.pi / N) * (i + 0.5) * k)\n",
    "        D[:,k] /= np.linalg.norm(D[:,k])\n",
    "    return D\n",
    "#much of this is taking from previous formulae\n",
    "\n",
    "# >> MARKOV CHAINS <<\n",
    "# M_ij = probability of moving from j to i\n",
    "# power iteration\n",
    "def power_iteration(M, x):\n",
    "    # Perform power iteration and return steady state vector xstar\n",
    "    xc = x.copy()\n",
    "    for i in range (100):\n",
    "        xc = M @ xc\n",
    "    return xc\n",
    "\n",
    "# random vector normalization\n",
    "random_vector = np.random.rand(2)\n",
    "random_vector /= np.sum(random_vector) # normalize\n",
    "\n",
    "# initial state (x0)\n",
    "x0 = np.array([0, 1, 0, 0])\n",
    "\n",
    "# convert adjacency matrix A to markov matrix\n",
    "def a_to_markov(A):\n",
    "    M2 = A.copy().astype(float)\n",
    "    # Convert entries in M2 below\n",
    "    #for loop\n",
    "    for i in range (len(A)): #may need to change\n",
    "        M2[:,i] = A[:, i] / np.sum(A[:,i])\n",
    "    return M2\n",
    "\n",
    "\n",
    "# pagerank\n",
    "def pagerank(A2, n):\n",
    "    M3 = A2.copy().astype(float)\n",
    "    #for loop\n",
    "    for i in range(len(A2)): #may need to change?\n",
    "        if (M3[:,i] == 0).all(): #cannot divide by 0, must run this case\n",
    "            M3[:,i] = 1 / n\n",
    "    M3 = M3 / la.norm(M3, 1, axis=0)\n",
    "    return M3\n",
    "\n",
    "# >> DYNAMICAL SYSTEMS <<\n",
    "# use np.linalg.solve\n",
    "# example to solve for x(t) = x_1 * c_1 * e ^ (lambda_1 * t) + x_2 * c_2 * e ^ (lambda_2 * t)\n",
    "start_time = 0\n",
    "end_time = 30\n",
    "time_steps = 100\n",
    "\n",
    "t = np.linspace(start_time, end_time, time_steps)\n",
    "A_circle = np.array([[0, 0.2], [-0.4, 0]])\n",
    "x_0_circle = np.array([1.0, -1.0], dtype='f')\n",
    "eigvals_circle, eigvecs_circle = la.eig(A_circle)\n",
    "x_circle = np.zeros((len(x_0_circle), len(t)), dtype=np.complex128)\n",
    "\n",
    "c1_circ, c2_circ = la.solve(eigvecs_circle, x_0_circle)\n",
    "print (c1_circ, c2_circ)\n",
    "for i in range(len(t)):\n",
    "    x_circle[:,i] = eigvecs_circle[:,0] * c1_circ * np.exp(eigvals_circle[0] * t[i]) + eigvecs_circle[:,1] * c2_circ * np.exp(eigvals_circle[1] * t[i])\n",
    "\n",
    "\n",
    "\n",
    "\n",
    "\n",
    "\n"
   ]
  },
  {
   "cell_type": "code",
   "execution_count": null,
   "metadata": {},
   "outputs": [],
   "source": []
  }
 ],
 "metadata": {
  "kernelspec": {
   "display_name": "Python 3.10.7 64-bit",
   "language": "python",
   "name": "python3"
  },
  "language_info": {
   "codemirror_mode": {
    "name": "ipython",
    "version": 3
   },
   "file_extension": ".py",
   "mimetype": "text/x-python",
   "name": "python",
   "nbconvert_exporter": "python",
   "pygments_lexer": "ipython3",
   "version": "3.10.7"
  },
  "orig_nbformat": 4,
  "vscode": {
   "interpreter": {
    "hash": "02dc2f7eb111b45208dda2138ea59acf9be92fe580dee25ec16d6861a495daef"
   }
  }
 },
 "nbformat": 4,
 "nbformat_minor": 2
}
